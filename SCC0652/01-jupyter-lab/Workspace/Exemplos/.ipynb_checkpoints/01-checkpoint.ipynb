{
 "cells": [
  {
   "cell_type": "markdown",
   "metadata": {},
   "source": [
    "# 01. Coleta e manipulação de dados\n",
    "\n",
    "Executar o comando:\n",
    "```\n",
    "pip install numpy pandas seaborn\n",
    "```"
   ]
  },
  {
   "cell_type": "markdown",
   "metadata": {},
   "source": [
    "## Importando conjunto de dados\n",
    "\n",
    "Abaixo, vamos importar o conjunto de dados \"tips\" da biblioteca **Seaborn**:"
   ]
  },
  {
   "cell_type": "code",
   "execution_count": 1,
   "metadata": {},
   "outputs": [
    {
     "name": "stdout",
     "output_type": "stream",
     "text": [
      "<class 'pandas.core.frame.DataFrame'>\n",
      "RangeIndex: 244 entries, 0 to 243\n",
      "Data columns (total 7 columns):\n",
      " #   Column      Non-Null Count  Dtype   \n",
      "---  ------      --------------  -----   \n",
      " 0   total_bill  244 non-null    float64 \n",
      " 1   tip         244 non-null    float64 \n",
      " 2   sex         244 non-null    category\n",
      " 3   smoker      244 non-null    category\n",
      " 4   day         244 non-null    category\n",
      " 5   time        244 non-null    category\n",
      " 6   size        244 non-null    int64   \n",
      "dtypes: category(4), float64(2), int64(1)\n",
      "memory usage: 7.3 KB\n"
     ]
    }
   ],
   "source": [
    "import seaborn as sns\n",
    "\n",
    "tips = sns.load_dataset(\"tips\")\n",
    "tips.info()"
   ]
  },
  {
   "cell_type": "markdown",
   "metadata": {},
   "source": [
    "\n",
    "### n primeiras instâncias"
   ]
  },
  {
   "cell_type": "code",
   "execution_count": 2,
   "metadata": {},
   "outputs": [
    {
     "data": {
      "text/html": [
       "<div>\n",
       "<style scoped>\n",
       "    .dataframe tbody tr th:only-of-type {\n",
       "        vertical-align: middle;\n",
       "    }\n",
       "\n",
       "    .dataframe tbody tr th {\n",
       "        vertical-align: top;\n",
       "    }\n",
       "\n",
       "    .dataframe thead th {\n",
       "        text-align: right;\n",
       "    }\n",
       "</style>\n",
       "<table border=\"1\" class=\"dataframe\">\n",
       "  <thead>\n",
       "    <tr style=\"text-align: right;\">\n",
       "      <th></th>\n",
       "      <th>total_bill</th>\n",
       "      <th>tip</th>\n",
       "      <th>sex</th>\n",
       "      <th>smoker</th>\n",
       "      <th>day</th>\n",
       "      <th>time</th>\n",
       "      <th>size</th>\n",
       "    </tr>\n",
       "  </thead>\n",
       "  <tbody>\n",
       "    <tr>\n",
       "      <th>0</th>\n",
       "      <td>16.99</td>\n",
       "      <td>1.01</td>\n",
       "      <td>Female</td>\n",
       "      <td>No</td>\n",
       "      <td>Sun</td>\n",
       "      <td>Dinner</td>\n",
       "      <td>2</td>\n",
       "    </tr>\n",
       "    <tr>\n",
       "      <th>1</th>\n",
       "      <td>10.34</td>\n",
       "      <td>1.66</td>\n",
       "      <td>Male</td>\n",
       "      <td>No</td>\n",
       "      <td>Sun</td>\n",
       "      <td>Dinner</td>\n",
       "      <td>3</td>\n",
       "    </tr>\n",
       "    <tr>\n",
       "      <th>2</th>\n",
       "      <td>21.01</td>\n",
       "      <td>3.50</td>\n",
       "      <td>Male</td>\n",
       "      <td>No</td>\n",
       "      <td>Sun</td>\n",
       "      <td>Dinner</td>\n",
       "      <td>3</td>\n",
       "    </tr>\n",
       "    <tr>\n",
       "      <th>3</th>\n",
       "      <td>23.68</td>\n",
       "      <td>3.31</td>\n",
       "      <td>Male</td>\n",
       "      <td>No</td>\n",
       "      <td>Sun</td>\n",
       "      <td>Dinner</td>\n",
       "      <td>2</td>\n",
       "    </tr>\n",
       "    <tr>\n",
       "      <th>4</th>\n",
       "      <td>24.59</td>\n",
       "      <td>3.61</td>\n",
       "      <td>Female</td>\n",
       "      <td>No</td>\n",
       "      <td>Sun</td>\n",
       "      <td>Dinner</td>\n",
       "      <td>4</td>\n",
       "    </tr>\n",
       "  </tbody>\n",
       "</table>\n",
       "</div>"
      ],
      "text/plain": [
       "   total_bill   tip     sex smoker  day    time  size\n",
       "0       16.99  1.01  Female     No  Sun  Dinner     2\n",
       "1       10.34  1.66    Male     No  Sun  Dinner     3\n",
       "2       21.01  3.50    Male     No  Sun  Dinner     3\n",
       "3       23.68  3.31    Male     No  Sun  Dinner     2\n",
       "4       24.59  3.61  Female     No  Sun  Dinner     4"
      ]
     },
     "execution_count": 2,
     "metadata": {},
     "output_type": "execute_result"
    }
   ],
   "source": [
    "tips.head(5)"
   ]
  },
  {
   "cell_type": "markdown",
   "metadata": {},
   "source": [
    "\n",
    "### n últimas instâncias"
   ]
  },
  {
   "cell_type": "code",
   "execution_count": 3,
   "metadata": {},
   "outputs": [
    {
     "data": {
      "text/html": [
       "<div>\n",
       "<style scoped>\n",
       "    .dataframe tbody tr th:only-of-type {\n",
       "        vertical-align: middle;\n",
       "    }\n",
       "\n",
       "    .dataframe tbody tr th {\n",
       "        vertical-align: top;\n",
       "    }\n",
       "\n",
       "    .dataframe thead th {\n",
       "        text-align: right;\n",
       "    }\n",
       "</style>\n",
       "<table border=\"1\" class=\"dataframe\">\n",
       "  <thead>\n",
       "    <tr style=\"text-align: right;\">\n",
       "      <th></th>\n",
       "      <th>total_bill</th>\n",
       "      <th>tip</th>\n",
       "      <th>sex</th>\n",
       "      <th>smoker</th>\n",
       "      <th>day</th>\n",
       "      <th>time</th>\n",
       "      <th>size</th>\n",
       "    </tr>\n",
       "  </thead>\n",
       "  <tbody>\n",
       "    <tr>\n",
       "      <th>239</th>\n",
       "      <td>29.03</td>\n",
       "      <td>5.92</td>\n",
       "      <td>Male</td>\n",
       "      <td>No</td>\n",
       "      <td>Sat</td>\n",
       "      <td>Dinner</td>\n",
       "      <td>3</td>\n",
       "    </tr>\n",
       "    <tr>\n",
       "      <th>240</th>\n",
       "      <td>27.18</td>\n",
       "      <td>2.00</td>\n",
       "      <td>Female</td>\n",
       "      <td>Yes</td>\n",
       "      <td>Sat</td>\n",
       "      <td>Dinner</td>\n",
       "      <td>2</td>\n",
       "    </tr>\n",
       "    <tr>\n",
       "      <th>241</th>\n",
       "      <td>22.67</td>\n",
       "      <td>2.00</td>\n",
       "      <td>Male</td>\n",
       "      <td>Yes</td>\n",
       "      <td>Sat</td>\n",
       "      <td>Dinner</td>\n",
       "      <td>2</td>\n",
       "    </tr>\n",
       "    <tr>\n",
       "      <th>242</th>\n",
       "      <td>17.82</td>\n",
       "      <td>1.75</td>\n",
       "      <td>Male</td>\n",
       "      <td>No</td>\n",
       "      <td>Sat</td>\n",
       "      <td>Dinner</td>\n",
       "      <td>2</td>\n",
       "    </tr>\n",
       "    <tr>\n",
       "      <th>243</th>\n",
       "      <td>18.78</td>\n",
       "      <td>3.00</td>\n",
       "      <td>Female</td>\n",
       "      <td>No</td>\n",
       "      <td>Thur</td>\n",
       "      <td>Dinner</td>\n",
       "      <td>2</td>\n",
       "    </tr>\n",
       "  </tbody>\n",
       "</table>\n",
       "</div>"
      ],
      "text/plain": [
       "     total_bill   tip     sex smoker   day    time  size\n",
       "239       29.03  5.92    Male     No   Sat  Dinner     3\n",
       "240       27.18  2.00  Female    Yes   Sat  Dinner     2\n",
       "241       22.67  2.00    Male    Yes   Sat  Dinner     2\n",
       "242       17.82  1.75    Male     No   Sat  Dinner     2\n",
       "243       18.78  3.00  Female     No  Thur  Dinner     2"
      ]
     },
     "execution_count": 3,
     "metadata": {},
     "output_type": "execute_result"
    }
   ],
   "source": [
    "# n últimas instâncias\n",
    "tips.tail(5)"
   ]
  },
  {
   "cell_type": "markdown",
   "metadata": {},
   "source": [
    "### Formato matricial (`np.ndarray`)"
   ]
  },
  {
   "cell_type": "code",
   "execution_count": 4,
   "metadata": {},
   "outputs": [
    {
     "name": "stdout",
     "output_type": "stream",
     "text": [
      "Type: <class 'numpy.ndarray'>\n",
      "Shape: (244, 7)\n"
     ]
    }
   ],
   "source": [
    "matriz = tips.values\n",
    "print(\"Type: {0}\\nShape: {1}\".format(\n",
    "    type(matriz),\n",
    "    matriz.shape))"
   ]
  },
  {
   "cell_type": "markdown",
   "metadata": {},
   "source": [
    "## Salvando e recuperando arquivo Pickle"
   ]
  },
  {
   "cell_type": "code",
   "execution_count": 5,
   "metadata": {},
   "outputs": [
    {
     "name": "stdout",
     "output_type": "stream",
     "text": [
      "['.ipynb_checkpoints', 'cbr_ilp_ir_son.csv']\n",
      "['.ipynb_checkpoints', 'cbr_ilp_ir_son.csv', 'tips.pkl']\n"
     ]
    }
   ],
   "source": [
    "import os\n",
    "import pandas as pd\n",
    "\n",
    "print(os.listdir(\"./data/\"))\n",
    "\n",
    "tips.to_pickle(\"./data/tips.pkl\")\n",
    "\n",
    "del tips\n",
    "\n",
    "print(os.listdir(\"./data/\"))\n",
    "\n",
    "tips = pd.read_pickle(\"./data/tips.pkl\")"
   ]
  },
  {
   "cell_type": "markdown",
   "metadata": {},
   "source": [
    "\n",
    "## Seleção de dados"
   ]
  },
  {
   "cell_type": "markdown",
   "metadata": {},
   "source": [
    "### Seleção de colunas"
   ]
  },
  {
   "cell_type": "code",
   "execution_count": 6,
   "metadata": {},
   "outputs": [
    {
     "name": "stdout",
     "output_type": "stream",
     "text": [
      "<class 'pandas.core.series.Series'>\n",
      "0    No\n",
      "1    No\n",
      "2    No\n",
      "3    No\n",
      "4    No\n",
      "Name: smoker, dtype: category\n",
      "Categories (2, object): ['Yes', 'No']\n",
      "\n",
      "<class 'pandas.core.frame.DataFrame'>\n",
      "  smoker\n",
      "0     No\n",
      "1     No\n",
      "2     No\n",
      "3     No\n",
      "4     No\n",
      "\n",
      "<class 'pandas.core.frame.DataFrame'>\n",
      "   total_bill   tip\n",
      "0       16.99  1.01\n",
      "1       10.34  1.66\n",
      "2       21.01  3.50\n",
      "3       23.68  3.31\n",
      "4       24.59  3.61\n"
     ]
    }
   ],
   "source": [
    "tips_col_series = tips[\"smoker\"]\n",
    "print(type(tips_col_series),\n",
    "    tips_col_series.head(),\n",
    "    sep=\"\\n\")\n",
    "\n",
    "print()\n",
    "\n",
    "tips_col_df = tips[[\"smoker\"]]\n",
    "print(type(tips_col_df),\n",
    "    tips_col_df.head(),\n",
    "    sep=\"\\n\")\n",
    "\n",
    "print()\n",
    "\n",
    "tips_mult_col = tips[[\"total_bill\", \"tip\"]]\n",
    "print(type(tips_mult_col),\n",
    "    tips_mult_col.head(),\n",
    "    sep=\"\\n\")"
   ]
  },
  {
   "cell_type": "markdown",
   "metadata": {},
   "source": [
    "\n",
    "### Seleção de linhas e colunas por correspondência de índice e por ordem sequencial"
   ]
  },
  {
   "cell_type": "code",
   "execution_count": 7,
   "metadata": {},
   "outputs": [
    {
     "name": "stdout",
     "output_type": "stream",
     "text": [
      "<class 'pandas.core.frame.DataFrame'>\n",
      "  smoker\n",
      "0     No\n",
      "1     No\n",
      "2     No\n",
      "3     No\n",
      "4     No\n",
      "\n",
      "<class 'pandas.core.frame.DataFrame'>\n",
      "  smoker\n",
      "0     No\n",
      "1     No\n",
      "2     No\n",
      "3     No\n",
      "4     No\n"
     ]
    }
   ],
   "source": [
    "tips_loc = tips.loc[:, [\"smoker\"]]\n",
    "print(type(tips_loc),\n",
    "     tips_loc.head(),\n",
    "     sep=\"\\n\")\n",
    "\n",
    "print()\n",
    "\n",
    "tips_iloc = tips.iloc[:, [3]]\n",
    "print(type(tips_iloc),\n",
    "     tips_iloc.head(),\n",
    "     sep=\"\\n\")"
   ]
  },
  {
   "cell_type": "markdown",
   "metadata": {},
   "source": [
    "\n",
    "### Seleção de linhas por correspondência condicional"
   ]
  },
  {
   "cell_type": "code",
   "execution_count": 8,
   "metadata": {},
   "outputs": [
    {
     "name": "stdout",
     "output_type": "stream",
     "text": [
      "<class 'pandas.core.frame.DataFrame'>\n",
      "Cond 1: (151, 7)\n",
      "\n",
      "<class 'pandas.core.frame.DataFrame'>\n",
      "Cond 2: (54, 7)\n"
     ]
    }
   ],
   "source": [
    "tips_cond_1 = tips[tips[\"smoker\"] == \"No\"]\n",
    "print(type(tips_cond_1),\n",
    "     f\"Cond 1: {tips_cond_1.shape}\",\n",
    "     sep=\"\\n\")\n",
    "\n",
    "print()\n",
    "\n",
    "tips_cond_2 = tips[(tips[\"smoker\"] == \"No\") & (tips[\"sex\"] == \"Female\")]\n",
    "print(type(tips_cond_2),\n",
    "     f\"Cond 2: {tips_cond_2.shape}\",\n",
    "     sep=\"\\n\")"
   ]
  },
  {
   "cell_type": "markdown",
   "metadata": {},
   "source": [
    "\n",
    "### Agrupamento e funções agregadas"
   ]
  },
  {
   "cell_type": "code",
   "execution_count": 9,
   "metadata": {},
   "outputs": [
    {
     "name": "stdout",
     "output_type": "stream",
     "text": [
      "<class 'pandas.core.groupby.generic.DataFrameGroupBy'>\n",
      "sex\n",
      "Male      157\n",
      "Female     87\n",
      "dtype: int64\n",
      "\n",
      "<class 'pandas.core.groupby.generic.DataFrameGroupBy'>\n",
      "            mean       std\n",
      "sex                       \n",
      "Male    3.089618  1.489102\n",
      "Female  2.833448  1.159495\n"
     ]
    }
   ],
   "source": [
    "tips_sex_group = tips.groupby([\"sex\"])\n",
    "print(type(tips_sex_group),\n",
    "    tips_sex_group.size(),\n",
    "    sep=\"\\n\")\n",
    "\n",
    "print()\n",
    "\n",
    "import numpy as np\n",
    "\n",
    "tips_sex_group_tip = tips_sex_group[\"tip\"].agg([np.mean, np.std])\n",
    "\n",
    "print(type(tips_sex_group),\n",
    "    tips_sex_group_tip,\n",
    "    sep=\"\\n\")"
   ]
  },
  {
   "cell_type": "code",
   "execution_count": 10,
   "metadata": {},
   "outputs": [
    {
     "name": "stdout",
     "output_type": "stream",
     "text": [
      "4 maneiras diferentes de realizar a mesma operação: \n",
      "\n"
     ]
    },
    {
     "data": {
      "text/html": [
       "<div>\n",
       "<style scoped>\n",
       "    .dataframe tbody tr th:only-of-type {\n",
       "        vertical-align: middle;\n",
       "    }\n",
       "\n",
       "    .dataframe tbody tr th {\n",
       "        vertical-align: top;\n",
       "    }\n",
       "\n",
       "    .dataframe thead th {\n",
       "        text-align: right;\n",
       "    }\n",
       "</style>\n",
       "<table border=\"1\" class=\"dataframe\">\n",
       "  <thead>\n",
       "    <tr style=\"text-align: right;\">\n",
       "      <th></th>\n",
       "      <th>Original</th>\n",
       "      <th>Broadcasting</th>\n",
       "      <th>Broadcasting (apply)</th>\n",
       "      <th>Funções agregadas</th>\n",
       "    </tr>\n",
       "  </thead>\n",
       "  <tbody>\n",
       "    <tr>\n",
       "      <th>0</th>\n",
       "      <td>16.99</td>\n",
       "      <td>33.98</td>\n",
       "      <td>33.98</td>\n",
       "      <td>33.98</td>\n",
       "    </tr>\n",
       "    <tr>\n",
       "      <th>1</th>\n",
       "      <td>10.34</td>\n",
       "      <td>20.68</td>\n",
       "      <td>20.68</td>\n",
       "      <td>20.68</td>\n",
       "    </tr>\n",
       "    <tr>\n",
       "      <th>2</th>\n",
       "      <td>21.01</td>\n",
       "      <td>42.02</td>\n",
       "      <td>42.02</td>\n",
       "      <td>42.02</td>\n",
       "    </tr>\n",
       "    <tr>\n",
       "      <th>3</th>\n",
       "      <td>23.68</td>\n",
       "      <td>47.36</td>\n",
       "      <td>47.36</td>\n",
       "      <td>47.36</td>\n",
       "    </tr>\n",
       "    <tr>\n",
       "      <th>4</th>\n",
       "      <td>24.59</td>\n",
       "      <td>49.18</td>\n",
       "      <td>49.18</td>\n",
       "      <td>49.18</td>\n",
       "    </tr>\n",
       "  </tbody>\n",
       "</table>\n",
       "</div>"
      ],
      "text/plain": [
       "   Original  Broadcasting  Broadcasting (apply)  Funções agregadas\n",
       "0     16.99         33.98                 33.98              33.98\n",
       "1     10.34         20.68                 20.68              20.68\n",
       "2     21.01         42.02                 42.02              42.02\n",
       "3     23.68         47.36                 47.36              47.36\n",
       "4     24.59         49.18                 49.18              49.18"
      ]
     },
     "execution_count": 10,
     "metadata": {},
     "output_type": "execute_result"
    }
   ],
   "source": [
    "import pandas as pd\n",
    "\n",
    "print(\"4 maneiras diferentes de realizar a mesma operação: \", end=\"\\n\\n\")\n",
    "pd.DataFrame(data={\n",
    "    \"Original\": tips[\"total_bill\"],\n",
    "    \"Broadcasting\": tips[\"total_bill\"] * 2,\n",
    "    \"Broadcasting (apply)\": tips[\"total_bill\"].apply(lambda x: x * 2),\n",
    "    \"Funções agregadas\": tips[\"total_bill\"].agg(lambda x: x * 2)\n",
    "}).head()"
   ]
  },
  {
   "cell_type": "markdown",
   "metadata": {},
   "source": [
    "\n",
    "### Manipulando colunas"
   ]
  },
  {
   "cell_type": "code",
   "execution_count": 11,
   "metadata": {},
   "outputs": [
    {
     "name": "stdout",
     "output_type": "stream",
     "text": [
      "Original\n",
      "   total_bill   tip     sex smoker  day    time  size\n",
      "0       16.99  1.01  Female     No  Sun  Dinner     2\n",
      "1       10.34  1.66    Male     No  Sun  Dinner     3\n",
      "2       21.01  3.50    Male     No  Sun  Dinner     3\n",
      "3       23.68  3.31    Male     No  Sun  Dinner     2\n",
      "4       24.59  3.61  Female     No  Sun  Dinner     4\n",
      "\n",
      "Adiciona coluna com valores repetidos:\n",
      "   total_bill   tip     sex smoker  day    time  size  dummie1  dummie2\n",
      "0       16.99  1.01  Female     No  Sun  Dinner     2        1        2\n",
      "1       10.34  1.66    Male     No  Sun  Dinner     3        1        2\n",
      "2       21.01  3.50    Male     No  Sun  Dinner     3        1        2\n",
      "3       23.68  3.31    Male     No  Sun  Dinner     2        1        2\n",
      "4       24.59  3.61  Female     No  Sun  Dinner     4        1        2\n",
      "\n",
      "Adiciona uma coluna com linhas:\n",
      "   total_bill   tip     sex smoker  day    time  size  dummie1  dummie2  \\\n",
      "0       16.99  1.01  Female     No  Sun  Dinner     2        1        2   \n",
      "1       10.34  1.66    Male     No  Sun  Dinner     3        1        2   \n",
      "2       21.01  3.50    Male     No  Sun  Dinner     3        1        2   \n",
      "3       23.68  3.31    Male     No  Sun  Dinner     2        1        2   \n",
      "4       24.59  3.61  Female     No  Sun  Dinner     4        1        2   \n",
      "\n",
      "   dummie3  \n",
      "0        0  \n",
      "1        1  \n",
      "2        2  \n",
      "3        3  \n",
      "4        4  \n",
      "\n",
      "Deleta colunas:\n",
      "\n",
      "   total_bill   tip     sex smoker  day    time  size\n",
      "0       16.99  1.01  Female     No  Sun  Dinner     2\n",
      "1       10.34  1.66    Male     No  Sun  Dinner     3\n",
      "2       21.01  3.50    Male     No  Sun  Dinner     3\n",
      "3       23.68  3.31    Male     No  Sun  Dinner     2\n",
      "4       24.59  3.61  Female     No  Sun  Dinner     4\n"
     ]
    }
   ],
   "source": [
    "tips_copy = tips.copy(deep=True)\n",
    "\n",
    "print(\"Original\")\n",
    "print(tips_copy.head())\n",
    "\n",
    "print(\"\\nAdiciona coluna com valores repetidos:\")\n",
    "tips_copy[[\"dummie1\", \"dummie2\"]] = 1, 2\n",
    "\n",
    "print(tips_copy.head())\n",
    "\n",
    "print(\"\\nAdiciona uma coluna com linhas:\")\n",
    "tips_copy[\"dummie3\"] = range(tips_copy.shape[0])\n",
    "print(tips_copy.head())\n",
    "\n",
    "print(\"\\nDeleta colunas:\")\n",
    "# Não afetará o Dataframe original\n",
    "tips_copy.drop(\n",
    "    [\"dummie1\", \"dummie2\", \"dummie3\"],\n",
    "    axis=\"columns\")\n",
    "\n",
    "print()\n",
    "\n",
    "# Afetará o Dataframe original\n",
    "tips_copy.drop(\n",
    "    [\"dummie1\", \"dummie2\", \"dummie3\"],\n",
    "    axis=\"columns\",\n",
    "    inplace=True)\n",
    "print(tips_copy.head())"
   ]
  }
 ],
 "metadata": {
  "kernelspec": {
   "display_name": "Python 3",
   "language": "python",
   "name": "python3"
  },
  "language_info": {
   "codemirror_mode": {
    "name": "ipython",
    "version": 3
   },
   "file_extension": ".py",
   "mimetype": "text/x-python",
   "name": "python",
   "nbconvert_exporter": "python",
   "pygments_lexer": "ipython3",
   "version": "3.8.2"
  }
 },
 "nbformat": 4,
 "nbformat_minor": 4
}
